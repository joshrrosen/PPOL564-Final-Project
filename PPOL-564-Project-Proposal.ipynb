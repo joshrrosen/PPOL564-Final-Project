{
 "cells": [
  {
   "cell_type": "markdown",
   "id": "b77fd608",
   "metadata": {},
   "source": [
    "<span style='font-family:\"Times New Roman\"'> <span styel=''>\n",
    "### <center >$\\bf{Project \\ Proposal}$"
   ]
  },
  {
   "cell_type": "markdown",
   "id": "c1c0af53",
   "metadata": {},
   "source": [
    "<span style='font-family:\"Times New Roman\"'> <span styel=''>\n",
    "Joshua Rosen"
   ]
  },
  {
   "cell_type": "markdown",
   "id": "2dc80f60",
   "metadata": {},
   "source": [
    "<span style='font-family:\"Times New Roman\"'> <span styel=''>\n",
    "&emsp; Between January and June of 2021, the United States experienced the largest six-month increase in traffic fatalities ever recorded—up nearly 20 percent since 2020, for a total of 20,160 deaths.[^1] Consequently, it has never been more pressing to establish a data-driven understanding of traffic accidents and fatalities in the United States. This report therefore aims to provide a high level, data-derived overview of America’s latest public health crisis.\n",
    "    \n",
    "<span style='font-family:\"Times New Roman\"'> <span styel=''>\n",
    "&emsp; The project will utilize the NHTSA’s Fatality Analysis Reporting System (FARS), which contains records spanning from 1975-2019.[^2] The three most relevant files provided are “Accident,” “Vehicle,” and “Person.” Together, these data files contain hundreds of variables, including weather, road-type, location, date/time, vehicle weight, and injury outcome. Moreover, FARS utilizes a standardized/unique crash-identifier variable.[^3]  Further, since the data is accessible via download from the NHTSA, the project will consist of three substantial wrangling components. \n",
    "\n",
    "<span style='font-family:\"Times New Roman\"'> <span styel=''>\n",
    "&emsp; First, since the crash-identifier is standardized across each dataset, this project will merge the Accident, Vehicle, and Person files. This step will involve only the most recent available year and will represent the primary source of analysis. Second, after the three relevant data files have been merged, the unit of analysis will be altered in order to examine smaller patterns in the data. This includes investigating if certain (1) months, (2) days of the month, (3) days of the week, (4) or hours of the day, have more fatalities that others. Third, the four-decades of records will be concatenated to reveal time-series-based trends (e.g., if/how total national fatalities has changed over time). \n",
    "\n",
    "<span style='font-family:\"Times New Roman\"'> <span styel=''>\n",
    "&emsp; Next, since the effective communication of a policy crisis is a core element of the project, the report will incorporate a significant visualization component. \n",
    "First, the paper will present a map of the United States where each state is assigned a color gradient corresponding to the number of 2019 traffic fatalities per 100,000 residents.[^4]:  Second, the paper will incorporate smaller visualizations to highlight interesting findings such as: (1) a pie chart illustrating the percentage of accidents by road type, (2) a pie chart illustrating the percentage of accidents by weather condition, (3) a bar graph comparing urban and rural traffic fatalities, (4) the impact of basic demographics, (5) a horizontal bar graph depicting the number of pedestrians vs. vehicle fatalities by state. Finally, the paper will host a time-series plot displaying yearly national traffic fatalities/accidents.\n",
    "\n",
    "<span style='font-family:\"Times New Roman\"'> <span styel=''>\n",
    "&emsp; In addition, the project’s statistical learning component will employ the merged dataset to predict the likelihood of a fatality occurring during a traffic accident. \n",
    "\n",
    "<span style='font-family:\"Times New Roman\"'> <span styel=''>\n",
    "&emsp; Given the time constraint, this project merely seeks to depict an overview of the traffic accident epidemic afflicting the United States. As a result, success will be defined based on three interrelated goals:\n",
    "(1) The project creates clean, accessible data files that (a) reveal interesting trends, and (b) are functional for future analysis. \n",
    "(2) The project visually communicates a complex, critical policy issue via plots.\n",
    "(3) The project successfully applies a statistical learning technique, even if this model *does not* result in fundamentally new or surprising results.\n",
    "    \n",
    "[^1]: “USDOT Releases New Data Showing That Road Fatalities Spiked in First Half of 2021,” U.S. Department of Transportation, published October 28, 2021, https://www.transportation.gov/briefing-room/usdot-releases-new-data-showing-road-fatalities-spiked-first-half-2021. \n",
    "    \n",
    "[^2]: “Fatality Analysis Reporting System,” NHTSA, accessed October 27, 2021, https://www.nhtsa.gov/research-data/fatality-analysis-reporting-system-fars. \n",
    "    \n",
    "[^3]: “Fatality Analysis Reporting System (FARS) Analytical User’s Manual, 1975-2019,” NHTSA, revised February 2021, https://crashstats.nhtsa.dot.gov/Api/Public/ViewPublication/813023. \n",
    "    \n",
    "[^4]: “Mapping and Plotting Tools,” GeoPandas, accessed October 29, 2021, https://geopandas.org/docs/user_guide/mapping.html. "
   ]
  }
 ],
 "metadata": {
  "kernelspec": {
   "display_name": "Python 3",
   "language": "python",
   "name": "python3"
  },
  "language_info": {
   "codemirror_mode": {
    "name": "ipython",
    "version": 3
   },
   "file_extension": ".py",
   "mimetype": "text/x-python",
   "name": "python",
   "nbconvert_exporter": "python",
   "pygments_lexer": "ipython3",
   "version": "3.8.8"
  }
 },
 "nbformat": 4,
 "nbformat_minor": 5
}

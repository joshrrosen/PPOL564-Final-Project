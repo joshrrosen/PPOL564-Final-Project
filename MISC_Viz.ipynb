{
 "cells": [
  {
   "cell_type": "markdown",
   "id": "fba60f9f",
   "metadata": {},
   "source": [
    "## Goal: Basic Vizualizations\n",
    "- Note: will add more after have better idea of predictors. Right now I just want to tackle priors.\n",
    "    - Then could go further in, look at conditions within a state"
   ]
  },
  {
   "cell_type": "markdown",
   "id": "69c3780d",
   "metadata": {},
   "source": [
    "### Urban Rural Divide"
   ]
  },
  {
   "cell_type": "code",
   "execution_count": null,
   "id": "94366698",
   "metadata": {},
   "outputs": [],
   "source": [
    "### It's not working because all in accident have at least one fatality. So stop tracking accidents\n"
   ]
  },
  {
   "cell_type": "code",
   "execution_count": 1,
   "id": "7a7f68a9",
   "metadata": {},
   "outputs": [],
   "source": [
    "#Libraries\n",
    "import pandas as pd\n",
    "import numpy as np\n",
    "import matplotlib.pyplot as plt\n",
    "import plotly.express as px\n",
    "import plotly.graph_objects as go\n",
    "from plotly.subplots import make_subplots\n",
    "\n",
    "pd.set_option(\"display.max_rows\", None, \"display.max_columns\", None)\n",
    "\n",
    "import warnings\n",
    "warnings.filterwarnings(\"ignore\")"
   ]
  },
  {
   "cell_type": "code",
   "execution_count": 2,
   "id": "28a68165",
   "metadata": {},
   "outputs": [],
   "source": [
    "#read in data\n",
    "All2019 = pd.read_csv(\"General_Clean_2019\")\n",
    "Accident2019 = pd.read_csv(\"2019accident.csv\")"
   ]
  },
  {
   "cell_type": "code",
   "execution_count": 3,
   "id": "4c4277e5",
   "metadata": {},
   "outputs": [
    {
     "data": {
      "text/html": [
       "<div>\n",
       "<style scoped>\n",
       "    .dataframe tbody tr th:only-of-type {\n",
       "        vertical-align: middle;\n",
       "    }\n",
       "\n",
       "    .dataframe tbody tr th {\n",
       "        vertical-align: top;\n",
       "    }\n",
       "\n",
       "    .dataframe thead th {\n",
       "        text-align: right;\n",
       "    }\n",
       "</style>\n",
       "<table border=\"1\" class=\"dataframe\">\n",
       "  <thead>\n",
       "    <tr style=\"text-align: right;\">\n",
       "      <th></th>\n",
       "      <th>ST_CASE</th>\n",
       "      <th>FATALS</th>\n",
       "      <th>CITYNAME</th>\n",
       "      <th>RUR_URBNAME</th>\n",
       "      <th>COUNTYNAME</th>\n",
       "    </tr>\n",
       "  </thead>\n",
       "  <tbody>\n",
       "    <tr>\n",
       "      <th>0</th>\n",
       "      <td>1</td>\n",
       "      <td>1</td>\n",
       "      <td>OPELIKA</td>\n",
       "      <td>Urban</td>\n",
       "      <td>LEE (81)</td>\n",
       "    </tr>\n",
       "    <tr>\n",
       "      <th>1</th>\n",
       "      <td>2</td>\n",
       "      <td>1</td>\n",
       "      <td>GADSDEN</td>\n",
       "      <td>Urban</td>\n",
       "      <td>ETOWAH (55)</td>\n",
       "    </tr>\n",
       "    <tr>\n",
       "      <th>2</th>\n",
       "      <td>3</td>\n",
       "      <td>1</td>\n",
       "      <td>NOT APPLICABLE</td>\n",
       "      <td>Rural</td>\n",
       "      <td>CLEBURNE (29)</td>\n",
       "    </tr>\n",
       "    <tr>\n",
       "      <th>3</th>\n",
       "      <td>4</td>\n",
       "      <td>1</td>\n",
       "      <td>RAINBOW CITY</td>\n",
       "      <td>Rural</td>\n",
       "      <td>ETOWAH (55)</td>\n",
       "    </tr>\n",
       "    <tr>\n",
       "      <th>4</th>\n",
       "      <td>5</td>\n",
       "      <td>1</td>\n",
       "      <td>NOT APPLICABLE</td>\n",
       "      <td>Urban</td>\n",
       "      <td>BALDWIN (3)</td>\n",
       "    </tr>\n",
       "  </tbody>\n",
       "</table>\n",
       "</div>"
      ],
      "text/plain": [
       "   ST_CASE  FATALS        CITYNAME RUR_URBNAME     COUNTYNAME\n",
       "0        1       1         OPELIKA       Urban       LEE (81)\n",
       "1        2       1         GADSDEN       Urban    ETOWAH (55)\n",
       "2        3       1  NOT APPLICABLE       Rural  CLEBURNE (29)\n",
       "3        4       1    RAINBOW CITY       Rural    ETOWAH (55)\n",
       "4        5       1  NOT APPLICABLE       Urban    BALDWIN (3)"
      ]
     },
     "execution_count": 3,
     "metadata": {},
     "output_type": "execute_result"
    }
   ],
   "source": [
    "#subset\n",
    "Urban_Rural_1 = Accident2019[[\"ST_CASE\",\"FATALS\", \"CITYNAME\", \"RUR_URBNAME\", \"COUNTYNAME\"]]\n",
    "\n",
    "#convert ST_Case into a accident counter (nvm this didn't work)\n",
    "Urban_Rural_1.loc[:, \"ST_CASE\"] = Urban_Rural_1[\"ST_CASE\"].apply(lambda x: x - 10000)\n",
    "\n",
    "#final\n",
    "Urban_Rural_1.head()"
   ]
  },
  {
   "cell_type": "code",
   "execution_count": 4,
   "id": "cabecc91",
   "metadata": {},
   "outputs": [
    {
     "data": {
      "text/plain": [
       "ST_CASE        0\n",
       "FATALS         0\n",
       "CITYNAME       0\n",
       "RUR_URBNAME    0\n",
       "COUNTYNAME     0\n",
       "dtype: int64"
      ]
     },
     "execution_count": 4,
     "metadata": {},
     "output_type": "execute_result"
    }
   ],
   "source": [
    "#count missing values by column\n",
    "count_nan = len(Urban_Rural_1) - Urban_Rural_1.count()\n",
    "count_nan\n",
    "\n",
    "#no missing values"
   ]
  },
  {
   "cell_type": "code",
   "execution_count": 5,
   "id": "9fa7fbfa",
   "metadata": {
    "scrolled": true
   },
   "outputs": [
    {
     "data": {
      "text/html": [
       "<div>\n",
       "<style scoped>\n",
       "    .dataframe tbody tr th:only-of-type {\n",
       "        vertical-align: middle;\n",
       "    }\n",
       "\n",
       "    .dataframe tbody tr th {\n",
       "        vertical-align: top;\n",
       "    }\n",
       "\n",
       "    .dataframe thead th {\n",
       "        text-align: right;\n",
       "    }\n",
       "</style>\n",
       "<table border=\"1\" class=\"dataframe\">\n",
       "  <thead>\n",
       "    <tr style=\"text-align: right;\">\n",
       "      <th></th>\n",
       "      <th>RUR_URBNAME</th>\n",
       "      <th>FATALS</th>\n",
       "    </tr>\n",
       "  </thead>\n",
       "  <tbody>\n",
       "    <tr>\n",
       "      <th>0</th>\n",
       "      <td>Not Reported</td>\n",
       "      <td>9</td>\n",
       "    </tr>\n",
       "    <tr>\n",
       "      <th>1</th>\n",
       "      <td>Rural</td>\n",
       "      <td>16340</td>\n",
       "    </tr>\n",
       "    <tr>\n",
       "      <th>2</th>\n",
       "      <td>Trafficway Not in State Inventory</td>\n",
       "      <td>90</td>\n",
       "    </tr>\n",
       "    <tr>\n",
       "      <th>3</th>\n",
       "      <td>Unknown</td>\n",
       "      <td>62</td>\n",
       "    </tr>\n",
       "    <tr>\n",
       "      <th>4</th>\n",
       "      <td>Urban</td>\n",
       "      <td>19595</td>\n",
       "    </tr>\n",
       "  </tbody>\n",
       "</table>\n",
       "</div>"
      ],
      "text/plain": [
       "                         RUR_URBNAME  FATALS\n",
       "0                       Not Reported       9\n",
       "1                              Rural   16340\n",
       "2  Trafficway Not in State Inventory      90\n",
       "3                            Unknown      62\n",
       "4                              Urban   19595"
      ]
     },
     "execution_count": 5,
     "metadata": {},
     "output_type": "execute_result"
    }
   ],
   "source": [
    "#Total Traffic Fatalities\n",
    "Rural_Urban_Total_Fatalities = Urban_Rural_1.groupby(\"RUR_URBNAME\").sum()\n",
    "Rural_Urban_Total_Fatalities.drop(\"ST_CASE\", axis=1, inplace=True)\n",
    "Rural_Urban_Total_Fatalities.head()\n",
    "\n",
    "# change index\n",
    "Rural_Urban_Total_Fatalities = Rural_Urban_Total_Fatalities.reset_index()\n",
    "\n",
    "Rural_Urban_Total_Fatalities"
   ]
  },
  {
   "cell_type": "code",
   "execution_count": 6,
   "id": "58956cbb",
   "metadata": {},
   "outputs": [
    {
     "data": {
      "text/plain": [
       "<AxesSubplot:title={'center':'Traffic Fatalities By Environment'}, xlabel='Environment'>"
      ]
     },
     "execution_count": 6,
     "metadata": {},
     "output_type": "execute_result"
    },
    {
     "data": {
      "image/png": "[encoded data removed]",
      "text/plain": [
       "<Figure size 432x288 with 1 Axes>"
      ]
     },
     "metadata": {
      "needs_background": "light"
     },
     "output_type": "display_data"
    }
   ],
   "source": [
    "#Combine random stuff into other\n",
    "int_ru = {\"Environment\": [\"Rural\", \"Urban\", 'Other'],\n",
    "                   'Fatalities': [\"16340\", \"19595\", \"161\"],\n",
    "                  }\n",
    "int_rural_urban = pd.DataFrame(int_ru) \n",
    "\n",
    "#convert to numeric\n",
    "int_rural_urban[\"Fatalities\"] = int_rural_urban[\"Fatalities\"].astype(int)\n",
    "\n",
    "#graph\n",
    "int_rural_urban.plot.bar(x=\"Environment\", y=\"Fatalities\", rot=45, title = \"Traffic Fatalities By Environment\")"
   ]
  },
  {
   "cell_type": "code",
   "execution_count": 7,
   "id": "aa89e13a",
   "metadata": {},
   "outputs": [
    {
     "name": "stdout",
     "output_type": "stream",
     "text": [
      "36096\n"
     ]
    }
   ],
   "source": [
    "#check that we have right number of fatalities\n",
    "Total = Urban_Rural_1['FATALS'].sum()\n",
    "print (Total)\n",
    "\n",
    "# We're good for fatalities! This is exactly right"
   ]
  },
  {
   "cell_type": "code",
   "execution_count": 9,
   "id": "34fb777f",
   "metadata": {},
   "outputs": [
    {
     "data": {
      "text/html": [
       "<div>\n",
       "<style scoped>\n",
       "    .dataframe tbody tr th:only-of-type {\n",
       "        vertical-align: middle;\n",
       "    }\n",
       "\n",
       "    .dataframe tbody tr th {\n",
       "        vertical-align: top;\n",
       "    }\n",
       "\n",
       "    .dataframe thead th {\n",
       "        text-align: right;\n",
       "    }\n",
       "</style>\n",
       "<table border=\"1\" class=\"dataframe\">\n",
       "  <thead>\n",
       "    <tr style=\"text-align: right;\">\n",
       "      <th></th>\n",
       "      <th>ST_CASE</th>\n",
       "      <th>FATALS</th>\n",
       "    </tr>\n",
       "    <tr>\n",
       "      <th>CITYNAME</th>\n",
       "      <th></th>\n",
       "      <th></th>\n",
       "    </tr>\n",
       "  </thead>\n",
       "  <tbody>\n",
       "    <tr>\n",
       "      <th>NOT APPLICABLE</th>\n",
       "      <td>4511437408</td>\n",
       "      <td>18239</td>\n",
       "    </tr>\n",
       "    <tr>\n",
       "      <th>Not Reported</th>\n",
       "      <td>92432181</td>\n",
       "      <td>468</td>\n",
       "    </tr>\n",
       "    <tr>\n",
       "      <th>LOS ANGELES</th>\n",
       "      <td>13083301</td>\n",
       "      <td>267</td>\n",
       "    </tr>\n",
       "    <tr>\n",
       "      <th>HOUSTON</th>\n",
       "      <td>114652269</td>\n",
       "      <td>256</td>\n",
       "    </tr>\n",
       "    <tr>\n",
       "      <th>PHOENIX</th>\n",
       "      <td>5969847</td>\n",
       "      <td>205</td>\n",
       "    </tr>\n",
       "  </tbody>\n",
       "</table>\n",
       "</div>"
      ],
      "text/plain": [
       "                   ST_CASE  FATALS\n",
       "CITYNAME                          \n",
       "NOT APPLICABLE  4511437408   18239\n",
       "Not Reported      92432181     468\n",
       "LOS ANGELES       13083301     267\n",
       "HOUSTON          114652269     256\n",
       "PHOENIX            5969847     205"
      ]
     },
     "execution_count": 9,
     "metadata": {},
     "output_type": "execute_result"
    }
   ],
   "source": [
    "#Fatalities by City (bar) --> nvm this isn't useful\n",
    "City_Fatals = Urban_Rural_1.groupby(\"CITYNAME\").sum()\n",
    "\n",
    "#sort by ascending\n",
    "City_Fatals['FATALS'] = City_Fatals[\"FATALS\"].astype('int')\n",
    "City_Fatals = City_Fatals.sort_values(by = \"FATALS\", ascending=False)\n",
    "\n",
    "#print table\n",
    "City_Fatals.head()\n",
    "\n",
    "\n",
    "#not useful :/"
   ]
  },
  {
   "cell_type": "code",
   "execution_count": 48,
   "id": "f548edb6",
   "metadata": {},
   "outputs": [
    {
     "data": {
      "text/html": [
       "<div>\n",
       "<style scoped>\n",
       "    .dataframe tbody tr th:only-of-type {\n",
       "        vertical-align: middle;\n",
       "    }\n",
       "\n",
       "    .dataframe tbody tr th {\n",
       "        vertical-align: top;\n",
       "    }\n",
       "\n",
       "    .dataframe thead th {\n",
       "        text-align: right;\n",
       "    }\n",
       "</style>\n",
       "<table border=\"1\" class=\"dataframe\">\n",
       "  <thead>\n",
       "    <tr style=\"text-align: right;\">\n",
       "      <th></th>\n",
       "      <th>ST_CASE</th>\n",
       "      <th>FATALS</th>\n",
       "    </tr>\n",
       "    <tr>\n",
       "      <th>COUNTYNAME</th>\n",
       "      <th></th>\n",
       "      <th></th>\n",
       "    </tr>\n",
       "  </thead>\n",
       "  <tbody>\n",
       "    <tr>\n",
       "      <th>LOS ANGELES (37)</th>\n",
       "      <td>33532847</td>\n",
       "      <td>685</td>\n",
       "    </tr>\n",
       "    <tr>\n",
       "      <th>MARICOPA (13)</th>\n",
       "      <td>12922030</td>\n",
       "      <td>442</td>\n",
       "    </tr>\n",
       "    <tr>\n",
       "      <th>HARRIS (201)</th>\n",
       "      <td>188233982</td>\n",
       "      <td>421</td>\n",
       "    </tr>\n",
       "    <tr>\n",
       "      <th>SAN BERNARDINO (71)</th>\n",
       "      <td>15225278</td>\n",
       "      <td>319</td>\n",
       "    </tr>\n",
       "    <tr>\n",
       "      <th>MIAMI-DADE (86)</th>\n",
       "      <td>31463415</td>\n",
       "      <td>298</td>\n",
       "    </tr>\n",
       "  </tbody>\n",
       "</table>\n",
       "</div>"
      ],
      "text/plain": [
       "                       ST_CASE  FATALS\n",
       "COUNTYNAME                            \n",
       "LOS ANGELES (37)      33532847     685\n",
       "MARICOPA (13)         12922030     442\n",
       "HARRIS (201)         188233982     421\n",
       "SAN BERNARDINO (71)   15225278     319\n",
       "MIAMI-DADE (86)       31463415     298"
      ]
     },
     "execution_count": 48,
     "metadata": {},
     "output_type": "execute_result"
    }
   ],
   "source": [
    "#Fatalities by County (bar) --> nvm this isn't useful\n",
    "County_Fatals = Urban_Rural_1.groupby(\"COUNTYNAME\").sum()\n",
    "\n",
    "\n",
    "#sort by ascending\n",
    "County_Fatals['FATALS'] = County_Fatals[\"FATALS\"].astype('int')\n",
    "County_Fatals = County_Fatals.sort_values(by = \"FATALS\", ascending=False)\n",
    "\n",
    "#table\n",
    "County_Fatals.head()\n",
    "\n",
    "#somewhat useful"
   ]
  },
  {
   "cell_type": "markdown",
   "id": "895dc6fd",
   "metadata": {},
   "source": [
    "### By Time"
   ]
  },
  {
   "cell_type": "markdown",
   "id": "79f46c6b",
   "metadata": {},
   "source": [
    "###### Month"
   ]
  },
  {
   "cell_type": "code",
   "execution_count": 77,
   "id": "7191f28d",
   "metadata": {
    "scrolled": true
   },
   "outputs": [
    {
     "data": {
      "text/plain": [
       "<AxesSubplot:title={'center':'Traffic Fatalities By Month'}, xlabel='MONTHNAME'>"
      ]
     },
     "execution_count": 77,
     "metadata": {},
     "output_type": "execute_result"
    },
    {
     "data": {
      "image/png": "[encoded data removed]",
      "text/plain": [
       "<Figure size 432x288 with 1 Axes>"
      ]
     },
     "metadata": {
      "needs_background": "light"
     },
     "output_type": "display_data"
    }
   ],
   "source": [
    "Acc_Month = Accident2019[[\"MONTHNAME\", \"FATALS\"]]\n",
    "month1 = Acc_Month.groupby('MONTHNAME')['FATALS'].sum()\n",
    "month2 = pd.DataFrame(month1)\n",
    "month2 = month2.reset_index()\n",
    "\n",
    "\n",
    "#graph\n",
    "month2.plot.bar(x=\"MONTHNAME\", y=\"FATALS\", rot=90, title = \"Traffic Fatalities By Month\")"
   ]
  },
  {
   "cell_type": "markdown",
   "id": "ef31725b",
   "metadata": {},
   "source": [
    "###### Day in Month"
   ]
  },
  {
   "cell_type": "code",
   "execution_count": 76,
   "id": "4e7e0a49",
   "metadata": {},
   "outputs": [
    {
     "data": {
      "text/plain": [
       "<AxesSubplot:title={'center':'Traffic Fatalities By Days of the Month'}, xlabel='DAYNAME'>"
      ]
     },
     "execution_count": 76,
     "metadata": {},
     "output_type": "execute_result"
    },
    {
     "data": {
      "image/png": "[encoded data removed]",
      "text/plain": [
       "<Figure size 432x288 with 1 Axes>"
      ]
     },
     "metadata": {
      "needs_background": "light"
     },
     "output_type": "display_data"
    }
   ],
   "source": [
    "Acc_day = Accident2019[[\"DAYNAME\", \"FATALS\"]]\n",
    "day1 = Acc_day.groupby('DAYNAME')['FATALS'].sum()\n",
    "day2 = pd.DataFrame(day1)\n",
    "day2 = day2.reset_index()\n",
    "\n",
    "day2.plot.bar(x=\"DAYNAME\", y=\"FATALS\", rot=90, title = \"Traffic Fatalities By Days of the Month\")"
   ]
  },
  {
   "cell_type": "markdown",
   "id": "0f836388",
   "metadata": {},
   "source": [
    "###### Day in Week"
   ]
  },
  {
   "cell_type": "code",
   "execution_count": 80,
   "id": "f418fb0d",
   "metadata": {},
   "outputs": [
    {
     "data": {
      "text/plain": [
       "<AxesSubplot:title={'center':'Traffic Fatalities By Days of Week'}, xlabel='DAY_WEEK'>"
      ]
     },
     "execution_count": 80,
     "metadata": {},
     "output_type": "execute_result"
    },
    {
     "data": {
      "image/png": "[encoded data removed]",
      "text/plain": [
       "<Figure size 432x288 with 1 Axes>"
      ]
     },
     "metadata": {
      "needs_background": "light"
     },
     "output_type": "display_data"
    }
   ],
   "source": [
    "Acc_dayww = Accident2019[[\"DAY_WEEK\", \"FATALS\"]]\n",
    "dayww1 = Acc_dayww.groupby('DAY_WEEK')['FATALS'].sum()\n",
    "dayww2 = pd.DataFrame(dayww1)\n",
    "dayww2 = dayww2.reset_index()\n",
    "\n",
    "dayww2.plot.bar(x=\"DAY_WEEK\", y=\"FATALS\", rot=0, title = \"Traffic Fatalities By Days of Week\")"
   ]
  },
  {
   "cell_type": "markdown",
   "id": "33ed0a4b",
   "metadata": {},
   "source": [
    "###### Time/Hour of Day"
   ]
  },
  {
   "cell_type": "code",
   "execution_count": 94,
   "id": "029b7ae7",
   "metadata": {
    "scrolled": true
   },
   "outputs": [
    {
     "data": {
      "text/plain": [
       "<AxesSubplot:title={'center':'Traffic Fatalities By Time of Day'}, xlabel='HOURNAME'>"
      ]
     },
     "execution_count": 94,
     "metadata": {},
     "output_type": "execute_result"
    },
    {
     "data": {
      "image/png": "[encoded data removed]",
      "text/plain": [
       "<Figure size 432x288 with 1 Axes>"
      ]
     },
     "metadata": {
      "needs_background": "light"
     },
     "output_type": "display_data"
    }
   ],
   "source": [
    "Acc_hr = Accident2019[[\"HOURNAME\", \"FATALS\"]]\n",
    "hr1 = Acc_hr.groupby('HOURNAME')['FATALS'].sum()\n",
    "hr2 = pd.DataFrame(hr1)\n",
    "hr2 = hr2.reset_index()\n",
    "\n",
    "hr2.plot.bar(x=\"HOURNAME\", y=\"FATALS\", rot=90, title = \"Traffic Fatalities By Time of Day\")"
   ]
  },
  {
   "cell_type": "markdown",
   "id": "9d448a91",
   "metadata": {},
   "source": [
    "### Weather"
   ]
  },
  {
   "cell_type": "markdown",
   "id": "283430d1",
   "metadata": {},
   "source": [
    "### Road Type"
   ]
  },
  {
   "cell_type": "code",
   "execution_count": 95,
   "id": "aaa8dd96",
   "metadata": {},
   "outputs": [
    {
     "data": {
      "text/plain": [
       "<AxesSubplot:title={'center':'Traffic Fatalities By Route'}, xlabel='ROUTENAME'>"
      ]
     },
     "execution_count": 95,
     "metadata": {},
     "output_type": "execute_result"
    },
    {
     "data": {
      "image/png": "[encoded data removed]",
      "text/plain": [
       "<Figure size 432x288 with 1 Axes>"
      ]
     },
     "metadata": {
      "needs_background": "light"
     },
     "output_type": "display_data"
    }
   ],
   "source": [
    "Acc_r = Accident2019[[\"ROUTENAME\", \"FATALS\"]]\n",
    "ro1 = Acc_r.groupby('ROUTENAME')['FATALS'].sum()\n",
    "ro2 = pd.DataFrame(ro1)\n",
    "ro2 = ro2.reset_index()\n",
    "\n",
    "ro2.plot.bar(x=\"ROUTENAME\", y=\"FATALS\", rot=90, title = \"Traffic Fatalities By Route\")"
   ]
  },
  {
   "cell_type": "code",
   "execution_count": 101,
   "id": "58c3c75e",
   "metadata": {},
   "outputs": [
    {
     "data": {
      "text/plain": [
       "<AxesSubplot:title={'center':'Traffic Fatalities By Road Type'}, xlabel='FUNC_SYSNAME'>"
      ]
     },
     "execution_count": 101,
     "metadata": {},
     "output_type": "execute_result"
    },
    {
     "data": {
      "image/png": "[encoded data removed]",
      "text/plain": [
       "<Figure size 432x288 with 1 Axes>"
      ]
     },
     "metadata": {
      "needs_background": "light"
     },
     "output_type": "display_data"
    }
   ],
   "source": [
    "Acc_dr = Accident2019[[\"FUNC_SYSNAME\", \"FATALS\"]]\n",
    "dr1 = Acc_dr.groupby('FUNC_SYSNAME')['FATALS'].sum()\n",
    "dr2 = pd.DataFrame(dr1)\n",
    "dr2 = dr2.reset_index()\n",
    "\n",
    "dr2.plot.bar(x=\"FUNC_SYSNAME\", y=\"FATALS\", rot=90, title = \"Traffic Fatalities By Road Type\")\n",
    "\n",
    "#note: dot NY says that PA - Other is rural?\n"
   ]
  },
  {
   "cell_type": "markdown",
   "id": "a9fc436e",
   "metadata": {},
   "source": [
    "### Incorporate something about which person and type of injury, etc"
   ]
  },
  {
   "cell_type": "code",
   "execution_count": 10,
   "id": "8e00c292",
   "metadata": {
    "scrolled": true
   },
   "outputs": [
    {
     "data": {
      "text/html": [
       "<div>\n",
       "<style scoped>\n",
       "    .dataframe tbody tr th:only-of-type {\n",
       "        vertical-align: middle;\n",
       "    }\n",
       "\n",
       "    .dataframe tbody tr th {\n",
       "        vertical-align: top;\n",
       "    }\n",
       "\n",
       "    .dataframe thead th {\n",
       "        text-align: right;\n",
       "    }\n",
       "</style>\n",
       "<table border=\"1\" class=\"dataframe\">\n",
       "  <thead>\n",
       "    <tr style=\"text-align: right;\">\n",
       "      <th></th>\n",
       "      <th>INJ_SEVNAME</th>\n",
       "      <th>Total Number</th>\n",
       "    </tr>\n",
       "  </thead>\n",
       "  <tbody>\n",
       "    <tr>\n",
       "      <th>0</th>\n",
       "      <td>Died Prior to Crash*</td>\n",
       "      <td>1</td>\n",
       "    </tr>\n",
       "    <tr>\n",
       "      <th>1</th>\n",
       "      <td>Fatal Injury (K)</td>\n",
       "      <td>36096</td>\n",
       "    </tr>\n",
       "    <tr>\n",
       "      <th>2</th>\n",
       "      <td>Injured, Severity Unknown</td>\n",
       "      <td>208</td>\n",
       "    </tr>\n",
       "    <tr>\n",
       "      <th>3</th>\n",
       "      <td>No Apparent Injury (O)</td>\n",
       "      <td>21085</td>\n",
       "    </tr>\n",
       "    <tr>\n",
       "      <th>4</th>\n",
       "      <td>Possible Injury (C)</td>\n",
       "      <td>6500</td>\n",
       "    </tr>\n",
       "  </tbody>\n",
       "</table>\n",
       "</div>"
      ],
      "text/plain": [
       "                 INJ_SEVNAME  Total Number\n",
       "0       Died Prior to Crash*             1\n",
       "1           Fatal Injury (K)         36096\n",
       "2  Injured, Severity Unknown           208\n",
       "3     No Apparent Injury (O)         21085\n",
       "4        Possible Injury (C)          6500"
      ]
     },
     "execution_count": 10,
     "metadata": {},
     "output_type": "execute_result"
    }
   ],
   "source": [
    "Person = pd.read_csv(\"2019Person.csv\")\n",
    "Person_Type = Person[[\"INJ_SEVNAME\", \"PER_TYPNAME\"]]\n",
    "test = Person_Type.groupby(\"INJ_SEVNAME\").size().reset_index(name='Total Number')\n",
    "test.head()\n",
    "\n",
    "\n",
    "##this is the paper"
   ]
  },
  {
   "cell_type": "code",
   "execution_count": 83,
   "id": "18f918cf",
   "metadata": {
    "scrolled": true
   },
   "outputs": [
    {
     "name": "stdout",
     "output_type": "stream",
     "text": [
      "STATE\n",
      "STATENAME\n",
      "ST_CASE\n",
      "VE_TOTAL\n",
      "VE_FORMS\n",
      "PVH_INVL\n",
      "PEDS\n",
      "PERSONS\n",
      "PERMVIT\n",
      "PERNOTMVIT\n",
      "COUNTY\n",
      "COUNTYNAME\n",
      "CITY\n",
      "CITYNAME\n",
      "DAY\n",
      "DAYNAME\n",
      "MONTH\n",
      "MONTHNAME\n",
      "YEAR\n",
      "DAY_WEEK\n",
      "DAY_WEEKNAME\n",
      "HOUR\n",
      "HOURNAME\n",
      "MINUTE\n",
      "MINUTENAME\n",
      "NHS\n",
      "NHSNAME\n",
      "ROUTE\n",
      "ROUTENAME\n",
      "TWAY_ID\n",
      "TWAY_ID2\n",
      "RUR_URB\n",
      "RUR_URBNAME\n",
      "FUNC_SYS\n",
      "FUNC_SYSNAME\n",
      "RD_OWNER\n",
      "RD_OWNERNAME\n",
      "MILEPT\n",
      "MILEPTNAME\n",
      "LATITUDE\n",
      "LATITUDENAME\n",
      "LONGITUD\n",
      "LONGITUDNAME\n",
      "SP_JUR\n",
      "SP_JURNAME\n",
      "HARM_EV\n",
      "HARM_EVNAME\n",
      "MAN_COLL\n",
      "MAN_COLLNAME\n",
      "RELJCT1\n",
      "RELJCT1NAME\n",
      "RELJCT2\n",
      "RELJCT2NAME\n",
      "TYP_INT\n",
      "TYP_INTNAME\n",
      "WRK_ZONE\n",
      "WRK_ZONENAME\n",
      "REL_ROAD\n",
      "REL_ROADNAME\n",
      "LGT_COND\n",
      "LGT_CONDNAME\n",
      "WEATHER1\n",
      "WEATHER1NAME\n",
      "WEATHER2\n",
      "WEATHER2NAME\n",
      "WEATHER\n",
      "WEATHERNAME\n",
      "SCH_BUS\n",
      "SCH_BUSNAME\n",
      "RAIL\n",
      "RAILNAME\n",
      "NOT_HOUR\n",
      "NOT_HOURNAME\n",
      "NOT_MIN\n",
      "NOT_MINNAME\n",
      "ARR_HOUR\n",
      "ARR_HOURNAME\n",
      "ARR_MIN\n",
      "ARR_MINNAME\n",
      "HOSP_HR\n",
      "HOSP_HRNAME\n",
      "HOSP_MN\n",
      "HOSP_MNNAME\n",
      "CF1\n",
      "CF1NAME\n",
      "CF2\n",
      "CF2NAME\n",
      "CF3\n",
      "CF3NAME\n",
      "FATALS\n",
      "DRUNK_DR\n"
     ]
    }
   ],
   "source": [
    "for col in Accident2019.columns:\n",
    "    print(col)"
   ]
  }
 ],
 "metadata": {
  "kernelspec": {
   "display_name": "Python 3",
   "language": "python",
   "name": "python3"
  },
  "language_info": {
   "codemirror_mode": {
    "name": "ipython",
    "version": 3
   },
   "file_extension": ".py",
   "mimetype": "text/x-python",
   "name": "python",
   "nbconvert_exporter": "python",
   "pygments_lexer": "ipython3",
   "version": "3.8.8"
  }
 },
 "nbformat": 4,
 "nbformat_minor": 5
}

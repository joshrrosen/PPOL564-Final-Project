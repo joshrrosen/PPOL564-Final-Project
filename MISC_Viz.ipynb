{
 "cells": [
  {
   "cell_type": "markdown",
   "id": "fba60f9f",
   "metadata": {},
   "source": [
    "## Goal: Basic Vizualizations\n",
    "- Note: will add more after have better idea of predictors. Right now I just want to tackle priors.\n",
    "    - Then could go further in, look at conditions within a state"
   ]
  },
  {
   "cell_type": "markdown",
   "id": "69c3780d",
   "metadata": {},
   "source": [
    "### Urban Rural Divide"
   ]
  },
  {
   "cell_type": "code",
   "execution_count": 42,
   "id": "7a7f68a9",
   "metadata": {},
   "outputs": [],
   "source": [
    "#Libraries\n",
    "import pandas as pd\n",
    "import numpy as np\n",
    "import matplotlib.pyplot as plt\n",
    "import plotly.express as px\n",
    "import plotly.graph_objects as go\n",
    "from plotly.subplots import make_subplots\n",
    "\n",
    "pd.set_option(\"display.max_rows\", None, \"display.max_columns\", None)\n",
    "\n",
    "import warnings\n",
    "warnings.filterwarnings(\"ignore\")"
   ]
  },
  {
   "cell_type": "code",
   "execution_count": 43,
   "id": "28a68165",
   "metadata": {},
   "outputs": [],
   "source": [
    "#read in data\n",
    "All2019 = pd.read_csv(\"General_Clean_2019\")\n",
    "Accident2019 = pd.read_csv(\"2019accident.csv\")"
   ]
  },
  {
   "cell_type": "code",
   "execution_count": 64,
   "id": "4c4277e5",
   "metadata": {},
   "outputs": [
    {
     "data": {
      "text/html": [
       "<div>\n",
       "<style scoped>\n",
       "    .dataframe tbody tr th:only-of-type {\n",
       "        vertical-align: middle;\n",
       "    }\n",
       "\n",
       "    .dataframe tbody tr th {\n",
       "        vertical-align: top;\n",
       "    }\n",
       "\n",
       "    .dataframe thead th {\n",
       "        text-align: right;\n",
       "    }\n",
       "</style>\n",
       "<table border=\"1\" class=\"dataframe\">\n",
       "  <thead>\n",
       "    <tr style=\"text-align: right;\">\n",
       "      <th></th>\n",
       "      <th>FATALS</th>\n",
       "      <th>CITYNAME</th>\n",
       "      <th>RUR_URBNAME</th>\n",
       "      <th>COUNTYNAME</th>\n",
       "    </tr>\n",
       "  </thead>\n",
       "  <tbody>\n",
       "    <tr>\n",
       "      <th>0</th>\n",
       "      <td>1</td>\n",
       "      <td>OPELIKA</td>\n",
       "      <td>Urban</td>\n",
       "      <td>LEE (81)</td>\n",
       "    </tr>\n",
       "    <tr>\n",
       "      <th>1</th>\n",
       "      <td>1</td>\n",
       "      <td>GADSDEN</td>\n",
       "      <td>Urban</td>\n",
       "      <td>ETOWAH (55)</td>\n",
       "    </tr>\n",
       "    <tr>\n",
       "      <th>2</th>\n",
       "      <td>1</td>\n",
       "      <td>NOT APPLICABLE</td>\n",
       "      <td>Rural</td>\n",
       "      <td>CLEBURNE (29)</td>\n",
       "    </tr>\n",
       "    <tr>\n",
       "      <th>3</th>\n",
       "      <td>1</td>\n",
       "      <td>RAINBOW CITY</td>\n",
       "      <td>Rural</td>\n",
       "      <td>ETOWAH (55)</td>\n",
       "    </tr>\n",
       "    <tr>\n",
       "      <th>4</th>\n",
       "      <td>1</td>\n",
       "      <td>NOT APPLICABLE</td>\n",
       "      <td>Urban</td>\n",
       "      <td>BALDWIN (3)</td>\n",
       "    </tr>\n",
       "  </tbody>\n",
       "</table>\n",
       "</div>"
      ],
      "text/plain": [
       "   FATALS        CITYNAME RUR_URBNAME     COUNTYNAME\n",
       "0       1         OPELIKA       Urban       LEE (81)\n",
       "1       1         GADSDEN       Urban    ETOWAH (55)\n",
       "2       1  NOT APPLICABLE       Rural  CLEBURNE (29)\n",
       "3       1    RAINBOW CITY       Rural    ETOWAH (55)\n",
       "4       1  NOT APPLICABLE       Urban    BALDWIN (3)"
      ]
     },
     "execution_count": 64,
     "metadata": {},
     "output_type": "execute_result"
    }
   ],
   "source": [
    "#subset\n",
    "Urban_Rural_1 = Accident2019[[\"FATALS\", \"CITYNAME\", \"RUR_URBNAME\", \"COUNTYNAME\"]]\n",
    "Urban_Rural_1.head()"
   ]
  },
  {
   "cell_type": "code",
   "execution_count": 58,
   "id": "b458e10e",
   "metadata": {},
   "outputs": [],
   "source": [
    "#Total Traffic Accidents by Urban/Rural Plot\n"
   ]
  },
  {
   "cell_type": "code",
   "execution_count": 4,
   "id": "9fa7fbfa",
   "metadata": {},
   "outputs": [],
   "source": [
    "#Total Traffic Fatalities"
   ]
  },
  {
   "cell_type": "code",
   "execution_count": 5,
   "id": "0ae024b9",
   "metadata": {},
   "outputs": [],
   "source": [
    "#Consider Adjusting for 2019 Population, etc"
   ]
  },
  {
   "cell_type": "code",
   "execution_count": 71,
   "id": "34fb777f",
   "metadata": {},
   "outputs": [
    {
     "data": {
      "text/html": [
       "<div>\n",
       "<style scoped>\n",
       "    .dataframe tbody tr th:only-of-type {\n",
       "        vertical-align: middle;\n",
       "    }\n",
       "\n",
       "    .dataframe tbody tr th {\n",
       "        vertical-align: top;\n",
       "    }\n",
       "\n",
       "    .dataframe thead th {\n",
       "        text-align: right;\n",
       "    }\n",
       "</style>\n",
       "<table border=\"1\" class=\"dataframe\">\n",
       "  <thead>\n",
       "    <tr style=\"text-align: right;\">\n",
       "      <th></th>\n",
       "      <th>FATALS</th>\n",
       "    </tr>\n",
       "    <tr>\n",
       "      <th>CITYNAME</th>\n",
       "      <th></th>\n",
       "    </tr>\n",
       "  </thead>\n",
       "  <tbody>\n",
       "    <tr>\n",
       "      <th>ABBEVILLE</th>\n",
       "      <td>1</td>\n",
       "    </tr>\n",
       "    <tr>\n",
       "      <th>ABERDEEN</th>\n",
       "      <td>8</td>\n",
       "    </tr>\n",
       "    <tr>\n",
       "      <th>ABILENE</th>\n",
       "      <td>9</td>\n",
       "    </tr>\n",
       "    <tr>\n",
       "      <th>ABINGDON</th>\n",
       "      <td>2</td>\n",
       "    </tr>\n",
       "    <tr>\n",
       "      <th>ABSECON</th>\n",
       "      <td>1</td>\n",
       "    </tr>\n",
       "  </tbody>\n",
       "</table>\n",
       "</div>"
      ],
      "text/plain": [
       "           FATALS\n",
       "CITYNAME         \n",
       "ABBEVILLE       1\n",
       "ABERDEEN        8\n",
       "ABILENE         9\n",
       "ABINGDON        2\n",
       "ABSECON         1"
      ]
     },
     "execution_count": 71,
     "metadata": {},
     "output_type": "execute_result"
    }
   ],
   "source": [
    "#Fatalities by City (bar)\n",
    "City_Fatals = Urban_Rural_1.groupby(\"CITYNAME\").sum()\n",
    "City_Fatals.head()"
   ]
  },
  {
   "cell_type": "code",
   "execution_count": 72,
   "id": "f548edb6",
   "metadata": {},
   "outputs": [
    {
     "data": {
      "text/html": [
       "<div>\n",
       "<style scoped>\n",
       "    .dataframe tbody tr th:only-of-type {\n",
       "        vertical-align: middle;\n",
       "    }\n",
       "\n",
       "    .dataframe tbody tr th {\n",
       "        vertical-align: top;\n",
       "    }\n",
       "\n",
       "    .dataframe thead th {\n",
       "        text-align: right;\n",
       "    }\n",
       "</style>\n",
       "<table border=\"1\" class=\"dataframe\">\n",
       "  <thead>\n",
       "    <tr style=\"text-align: right;\">\n",
       "      <th></th>\n",
       "      <th>FATALS</th>\n",
       "    </tr>\n",
       "    <tr>\n",
       "      <th>COUNTYNAME</th>\n",
       "      <th></th>\n",
       "    </tr>\n",
       "  </thead>\n",
       "  <tbody>\n",
       "    <tr>\n",
       "      <th>ABBEVILLE (1)</th>\n",
       "      <td>1</td>\n",
       "    </tr>\n",
       "    <tr>\n",
       "      <th>ACADIA (1)</th>\n",
       "      <td>14</td>\n",
       "    </tr>\n",
       "    <tr>\n",
       "      <th>ACCOMACK (1)</th>\n",
       "      <td>5</td>\n",
       "    </tr>\n",
       "    <tr>\n",
       "      <th>ADA (1)</th>\n",
       "      <td>29</td>\n",
       "    </tr>\n",
       "    <tr>\n",
       "      <th>ADAIR (1)</th>\n",
       "      <td>12</td>\n",
       "    </tr>\n",
       "  </tbody>\n",
       "</table>\n",
       "</div>"
      ],
      "text/plain": [
       "               FATALS\n",
       "COUNTYNAME           \n",
       "ABBEVILLE (1)       1\n",
       "ACADIA (1)         14\n",
       "ACCOMACK (1)        5\n",
       "ADA (1)            29\n",
       "ADAIR (1)          12"
      ]
     },
     "execution_count": 72,
     "metadata": {},
     "output_type": "execute_result"
    }
   ],
   "source": [
    "#Fatalities by County (bar)\n",
    "County_Fatals = Urban_Rural_1.groupby(\"COUNTYNAME\").sum()\n",
    "County_Fatals.head()"
   ]
  },
  {
   "cell_type": "markdown",
   "id": "895dc6fd",
   "metadata": {},
   "source": [
    "### By Time"
   ]
  },
  {
   "cell_type": "markdown",
   "id": "79f46c6b",
   "metadata": {},
   "source": [
    "###### Month"
   ]
  },
  {
   "cell_type": "markdown",
   "id": "ef31725b",
   "metadata": {},
   "source": [
    "###### Day in Month"
   ]
  },
  {
   "cell_type": "markdown",
   "id": "0f836388",
   "metadata": {},
   "source": [
    "###### Day in Week"
   ]
  },
  {
   "cell_type": "markdown",
   "id": "33ed0a4b",
   "metadata": {},
   "source": [
    "###### Time/Hour of Day"
   ]
  },
  {
   "cell_type": "markdown",
   "id": "9d448a91",
   "metadata": {},
   "source": [
    "### Weather"
   ]
  },
  {
   "cell_type": "markdown",
   "id": "283430d1",
   "metadata": {},
   "source": [
    "### Road Type"
   ]
  }
 ],
 "metadata": {
  "kernelspec": {
   "display_name": "Python 3",
   "language": "python",
   "name": "python3"
  },
  "language_info": {
   "codemirror_mode": {
    "name": "ipython",
    "version": 3
   },
   "file_extension": ".py",
   "mimetype": "text/x-python",
   "name": "python",
   "nbconvert_exporter": "python",
   "pygments_lexer": "ipython3",
   "version": "3.8.8"
  }
 },
 "nbformat": 4,
 "nbformat_minor": 5
}
